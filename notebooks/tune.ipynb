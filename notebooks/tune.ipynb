{
 "cells": [
  {
   "cell_type": "code",
   "execution_count": 1,
   "metadata": {},
   "outputs": [],
   "source": [
    "from pyaccelerator import *\n",
    "import numpy as np\n",
    "import matplotlib.pyplot as plt\n",
    "from pyaccelerator import logger\n",
    "import logging\n",
    "logger.setLevel('DEBUG')"
   ]
  },
  {
   "cell_type": "code",
   "execution_count": 2,
   "metadata": {},
   "outputs": [],
   "source": [
    "def test_tune_turn_convergence(lattice):\n",
    "    scan_turns = [64, 128, 256, 512, 1024, 2048, 5012, 10024]  # np.linspace(100, 5000, 20, dtype=int)\n",
    "    tunes = []\n",
    "    for n_turns in scan_turns:\n",
    "        tunes.append(FODO_thin.tune(n_turns=n_turns))\n",
    "    plt.plot(scan_turns, tunes)\n",
    "    plt.xlabel('number of turns')\n",
    "    plt.ylabel('tune')"
   ]
  },
  {
   "cell_type": "markdown",
   "metadata": {},
   "source": [
    "# Thin lattice"
   ]
  },
  {
   "cell_type": "code",
   "execution_count": 3,
   "metadata": {},
   "outputs": [
    {
     "data": {
      "text/plain": [
       "(<Figure size 432x288 with 1 Axes>, <AxesSubplot:xlabel='s [m]'>)"
      ]
     },
     "execution_count": 3,
     "metadata": {},
     "output_type": "execute_result"
    },
    {
     "data": {
      "image/png": "[encoded data removed]",
      "text/plain": [
       "<Figure size 432x288 with 1 Axes>"
      ]
     },
     "metadata": {
      "needs_background": "light"
     },
     "output_type": "display_data"
    }
   ],
   "source": [
    "f = 8\n",
    "l_drift = 1.1\n",
    "\n",
    "quad_F = QuadrupoleThin(f*2)\n",
    "quad_D = QuadrupoleThin(-f)\n",
    "drift = Drift(l_drift)\n",
    "\n",
    "FODO_thin = Lattice([quad_F, drift, quad_D, drift, quad_F])\n",
    "lattice_thin = FODO_thin*100\n",
    "FODO_thin.plot()"
   ]
  },
  {
   "cell_type": "code",
   "execution_count": 4,
   "metadata": {
    "scrolled": false
   },
   "outputs": [
    {
     "data": {
      "image/png": "[encoded data removed]",
      "text/plain": [
       "<Figure size 432x288 with 1 Axes>"
      ]
     },
     "metadata": {
      "needs_background": "light"
     },
     "output_type": "display_data"
    }
   ],
   "source": [
    "test_tune_turn_convergence(lattice_thin)"
   ]
  },
  {
   "cell_type": "code",
   "execution_count": 5,
   "metadata": {
    "scrolled": false
   },
   "outputs": [
    {
     "data": {
      "text/plain": [
       "0.021901080878726845"
      ]
     },
     "execution_count": 5,
     "metadata": {},
     "output_type": "execute_result"
    }
   ],
   "source": [
    "FODO_thin.tune()"
   ]
  },
  {
   "cell_type": "code",
   "execution_count": 6,
   "metadata": {},
   "outputs": [
    {
     "data": {
      "text/plain": [
       "-0.02191384144700076"
      ]
     },
     "execution_count": 6,
     "metadata": {},
     "output_type": "execute_result"
    }
   ],
   "source": [
    "FODO_thin.chromaticity()"
   ]
  },
  {
   "cell_type": "code",
   "execution_count": 7,
   "metadata": {},
   "outputs": [
    {
     "data": {
      "text/plain": [
       "0.19010806395830193"
      ]
     },
     "execution_count": 7,
     "metadata": {},
     "output_type": "execute_result"
    }
   ],
   "source": [
    "lattice_thin.tune()"
   ]
  },
  {
   "cell_type": "code",
   "execution_count": 8,
   "metadata": {},
   "outputs": [
    {
     "data": {
      "text/plain": [
       "-2.1913737103845254"
      ]
     },
     "execution_count": 8,
     "metadata": {},
     "output_type": "execute_result"
    }
   ],
   "source": [
    "lattice_thin.chromaticity()"
   ]
  },
  {
   "cell_type": "code",
   "execution_count": 9,
   "metadata": {},
   "outputs": [],
   "source": [
    "def thin_lattice_factory(strength):\n",
    "    f = 1/strength\n",
    "    l_drift = 1.1\n",
    "\n",
    "    quad_F = QuadrupoleThin(f*2)\n",
    "    quad_D = QuadrupoleThin(-f)\n",
    "    drift = Drift(l_drift)\n",
    "\n",
    "    return Lattice([quad_F, drift, quad_D, drift, quad_F])"
   ]
  },
  {
   "cell_type": "code",
   "execution_count": 10,
   "metadata": {
    "scrolled": true
   },
   "outputs": [
    {
     "name": "stderr",
     "output_type": "stream",
     "text": [
      "/home/lcoyle/projects/accelerator/pyaccelerator/elements/base.py:52: RuntimeWarning: overflow encountered in matmul\n",
      "  return (self._get_transfer_matrix() @ phase_coords) + self._non_linear_term(\n",
      "/home/lcoyle/projects/accelerator/pyaccelerator/elements/base.py:52: RuntimeWarning: invalid value encountered in matmul\n",
      "  return (self._get_transfer_matrix() @ phase_coords) + self._non_linear_term(\n",
      "/home/lcoyle/projects/accelerator/pyaccelerator/elements/quadrupole.py:187: RuntimeWarning: overflow encountered in double_scalars\n",
      "  out[1] = -one_over_f * phase_coords[0] + phase_coords[1]\n"
     ]
    },
    {
     "data": {
      "text/plain": [
       "[<matplotlib.lines.Line2D at 0x7fbcee0b16d0>]"
      ]
     },
     "execution_count": 10,
     "metadata": {},
     "output_type": "execute_result"
    },
    {
     "data": {
      "image/png": "[encoded data removed]",
      "text/plain": [
       "<Figure size 432x288 with 1 Axes>"
      ]
     },
     "metadata": {
      "needs_background": "light"
     },
     "output_type": "display_data"
    }
   ],
   "source": [
    "scan_strengths = np.linspace(1, 5, 50)\n",
    "tunes = []\n",
    "strengths = []\n",
    "for strength in scan_strengths:\n",
    "    try:\n",
    "        tunes.append(thin_lattice_factory(strength).tune())\n",
    "        strengths.append(strength)\n",
    "    except ValueError:\n",
    "        continue\n",
    "plt.plot(strengths, tunes)"
   ]
  },
  {
   "cell_type": "markdown",
   "metadata": {},
   "source": [
    "# Lattice with a tune > 0.5"
   ]
  },
  {
   "cell_type": "code",
   "execution_count": 11,
   "metadata": {},
   "outputs": [
    {
     "data": {
      "text/plain": [
       "(<Figure size 432x288 with 1 Axes>, <AxesSubplot:xlabel='s [m]'>)"
      ]
     },
     "execution_count": 11,
     "metadata": {},
     "output_type": "execute_result"
    },
    {
     "data": {
      "image/png": "[encoded data removed]",
      "text/plain": [
       "<Figure size 432x288 with 1 Axes>"
      ]
     },
     "metadata": {
      "needs_background": "light"
     },
     "output_type": "display_data"
    }
   ],
   "source": [
    "n_cells = 4\n",
    "f = 1.2\n",
    "l = 1.1\n",
    "\n",
    "lat = Lattice([QuadrupoleThin(2*f), Drift(l), QuadrupoleThin(-f), Drift(l), QuadrupoleThin(2*f)]) * n_cells\n",
    "lat.plot()"
   ]
  },
  {
   "cell_type": "code",
   "execution_count": 12,
   "metadata": {},
   "outputs": [
    {
     "data": {
      "text/plain": [
       "0.6062136163141489"
      ]
     },
     "execution_count": 12,
     "metadata": {},
     "output_type": "execute_result"
    }
   ],
   "source": [
    "lat.tune()"
   ]
  },
  {
   "cell_type": "code",
   "execution_count": 13,
   "metadata": {},
   "outputs": [
    {
     "data": {
      "text/plain": [
       "-0.6558512349238432"
      ]
     },
     "execution_count": 13,
     "metadata": {},
     "output_type": "execute_result"
    }
   ],
   "source": [
    "lat.chromaticity()"
   ]
  },
  {
   "cell_type": "markdown",
   "metadata": {},
   "source": [
    "# Thick elements"
   ]
  },
  {
   "cell_type": "code",
   "execution_count": 14,
   "metadata": {},
   "outputs": [
    {
     "data": {
      "text/plain": [
       "(<Figure size 432x288 with 1 Axes>, <AxesSubplot:xlabel='s [m]'>)"
      ]
     },
     "execution_count": 14,
     "metadata": {},
     "output_type": "execute_result"
    },
    {
     "data": {
      "image/png": "[encoded data removed]",
      "text/plain": [
       "<Figure size 432x288 with 1 Axes>"
      ]
     },
     "metadata": {
      "needs_background": "light"
     },
     "output_type": "display_data"
    }
   ],
   "source": [
    "k = 1/0.8\n",
    "l_quad = 0.1\n",
    "l_drift = 1\n",
    "\n",
    "quad_F = Quadrupole(k, l_quad/2)\n",
    "quad_D = Quadrupole(-k, l_quad)\n",
    "sext_f = Sextupole(1e-3, 0.1)\n",
    "sext_d = Sextupole(1e-3, 0.1)\n",
    "drift = Drift(l_drift)\n",
    "\n",
    "FODO_thick = Lattice([quad_F,\n",
    "                      sext_f,\n",
    "                      drift,\n",
    "                      quad_D,\n",
    "                      sext_d,\n",
    "                      drift,\n",
    "                      quad_F])\n",
    "lattice_thick = FODO_thick*100\n",
    "FODO_thick.plot()"
   ]
  },
  {
   "cell_type": "code",
   "execution_count": 15,
   "metadata": {},
   "outputs": [
    {
     "data": {
      "image/png": "[encoded data removed]",
      "text/plain": [
       "<Figure size 432x288 with 1 Axes>"
      ]
     },
     "metadata": {
      "needs_background": "light"
     },
     "output_type": "display_data"
    }
   ],
   "source": [
    "test_tune_turn_convergence(lattice_thick)"
   ]
  },
  {
   "cell_type": "code",
   "execution_count": 16,
   "metadata": {},
   "outputs": [
    {
     "data": {
      "text/plain": [
       "TransferMatrix([[ 0.99843791,  0.04997396,  0.        ,  0.        ,\n",
       "                  0.        ],\n",
       "                [-0.06246745,  0.99843791,  0.        ,  0.        ,\n",
       "                  0.        ],\n",
       "                [ 0.        ,  0.        ,  1.00156291,  0.05002605,\n",
       "                  0.        ],\n",
       "                [ 0.        ,  0.        ,  0.06253256,  1.00156291,\n",
       "                  0.        ],\n",
       "                [ 0.        ,  0.        ,  0.        ,  0.        ,\n",
       "                  1.        ]])"
      ]
     },
     "execution_count": 16,
     "metadata": {},
     "output_type": "execute_result"
    }
   ],
   "source": [
    "quad_F.m"
   ]
  },
  {
   "cell_type": "code",
   "execution_count": 17,
   "metadata": {},
   "outputs": [
    {
     "data": {
      "text/plain": [
       "TransferMatrix([[ 1.00625651,  0.10020846,  0.        ,  0.        ,\n",
       "                  0.        ],\n",
       "                [ 0.12526058,  1.00625651,  0.        ,  0.        ,\n",
       "                  0.        ],\n",
       "                [ 0.        ,  0.        ,  0.99375651,  0.0997918 ,\n",
       "                  0.        ],\n",
       "                [ 0.        ,  0.        , -0.12473975,  0.99375651,\n",
       "                  0.        ],\n",
       "                [ 0.        ,  0.        ,  0.        ,  0.        ,\n",
       "                  1.        ]])"
      ]
     },
     "execution_count": 17,
     "metadata": {},
     "output_type": "execute_result"
    }
   ],
   "source": [
    "quad_D.m"
   ]
  },
  {
   "cell_type": "code",
   "execution_count": 18,
   "metadata": {},
   "outputs": [
    {
     "data": {
      "text/plain": [
       "0.023221192962329208"
      ]
     },
     "execution_count": 18,
     "metadata": {},
     "output_type": "execute_result"
    }
   ],
   "source": [
    "FODO_thick.tune()"
   ]
  },
  {
   "cell_type": "code",
   "execution_count": 19,
   "metadata": {},
   "outputs": [
    {
     "data": {
      "text/plain": [
       "0.0232211696998974"
      ]
     },
     "execution_count": 19,
     "metadata": {},
     "output_type": "execute_result"
    }
   ],
   "source": [
    "FODO_thick.tune(dp=1e-6)"
   ]
  },
  {
   "cell_type": "code",
   "execution_count": 20,
   "metadata": {},
   "outputs": [
    {
     "data": {
      "text/plain": [
       "-0.0232391490434386"
      ]
     },
     "execution_count": 20,
     "metadata": {},
     "output_type": "execute_result"
    }
   ],
   "source": [
    "FODO_thick.chromaticity()"
   ]
  },
  {
   "cell_type": "code",
   "execution_count": 21,
   "metadata": {},
   "outputs": [
    {
     "data": {
      "text/plain": [
       "0.3221192995520872"
      ]
     },
     "execution_count": 21,
     "metadata": {},
     "output_type": "execute_result"
    }
   ],
   "source": [
    "lattice_thick.tune()"
   ]
  },
  {
   "cell_type": "code",
   "execution_count": 22,
   "metadata": {},
   "outputs": [
    {
     "data": {
      "text/plain": [
       "-2.3239132486276293"
      ]
     },
     "execution_count": 22,
     "metadata": {},
     "output_type": "execute_result"
    }
   ],
   "source": [
    "lattice_thick.chromaticity()"
   ]
  },
  {
   "cell_type": "code",
   "execution_count": 23,
   "metadata": {},
   "outputs": [
    {
     "data": {
      "text/plain": [
       "-2.3239132489183967"
      ]
     },
     "execution_count": 23,
     "metadata": {},
     "output_type": "execute_result"
    }
   ],
   "source": [
    "lattice_thick.chromaticity(plane='v')"
   ]
  },
  {
   "cell_type": "code",
   "execution_count": 24,
   "metadata": {},
   "outputs": [
    {
     "data": {
      "image/png": "[encoded data removed]",
      "text/plain": [
       "<Figure size 432x288 with 1 Axes>"
      ]
     },
     "metadata": {
      "needs_background": "light"
     },
     "output_type": "display_data"
    }
   ],
   "source": [
    "test_tune_turn_convergence(FODO_thick)"
   ]
  },
  {
   "cell_type": "markdown",
   "metadata": {},
   "source": [
    "# More complex"
   ]
  },
  {
   "cell_type": "code",
   "execution_count": 25,
   "metadata": {},
   "outputs": [],
   "source": [
    "circumference = 1000\n",
    "n_cells = 20\n",
    "cell_length = circumference / n_cells\n",
    "\n",
    "dipole_length = 5\n",
    "dipole_angle = 2 * np.pi / (n_cells * 4)\n",
    "dipole_bending_radius = dipole_length / dipole_angle\n",
    "\n",
    "quadrupole_length = 3\n",
    "quadrupole_strength = 1e-2\n",
    "\n",
    "drift_length = (cell_length - (2 * quadrupole_length) - (4 * dipole_length)) / 6"
   ]
  },
  {
   "cell_type": "code",
   "execution_count": 26,
   "metadata": {},
   "outputs": [],
   "source": [
    "dipole = Dipole(dipole_bending_radius, dipole_angle)\n",
    "quad_f_half = Quadrupole(quadrupole_strength, quadrupole_length / 2, name='quad_f')\n",
    "quad_d = Quadrupole(-quadrupole_strength, quadrupole_length, name='quad_d')\n",
    "drift = Drift(drift_length)\n",
    "drift_half = Drift(drift_length / 2)"
   ]
  },
  {
   "cell_type": "code",
   "execution_count": 27,
   "metadata": {},
   "outputs": [
    {
     "data": {
      "image/png": "[encoded data removed]",
      "text/plain": [
       "<Figure size 432x288 with 1 Axes>"
      ]
     },
     "metadata": {
      "needs_background": "light"
     },
     "output_type": "display_data"
    },
    {
     "data": {
      "image/png": "[encoded data removed]",
      "text/plain": [
       "<Figure size 432x288 with 1 Axes>"
      ]
     },
     "metadata": {
      "needs_background": "light"
     },
     "output_type": "display_data"
    }
   ],
   "source": [
    "l_sext = 0.5\n",
    "k_sext_f = 1e-3\n",
    "k_sext_d = -1e-3\n",
    "sext_f = Sextupole(k_sext_f, l_sext, name=\"sextupole_f\")\n",
    "sext_d = Sextupole(k_sext_d, l_sext, name=\"sextupole_d\")\n",
    "FODO_sext = Lattice([quad_f_half,\n",
    "                     sext_f,\n",
    "                     Drift(drift_length - l_sext),\n",
    "                     dipole,\n",
    "                     drift,\n",
    "                     dipole,\n",
    "                     drift,\n",
    "                     quad_d,\n",
    "                     sext_d,\n",
    "                     Drift(drift_length - l_sext),\n",
    "                     dipole,\n",
    "                     drift,\n",
    "                     dipole,\n",
    "                     drift,\n",
    "                     quad_f_half\n",
    "                     ])\n",
    "FODO_sext.plot()\n",
    "FODO_sext.plot.top_down()\n",
    "lattice_sext = FODO_sext * n_cells"
   ]
  },
  {
   "cell_type": "code",
   "execution_count": 28,
   "metadata": {},
   "outputs": [
    {
     "data": {
      "image/png": "[encoded data removed]",
      "text/plain": [
       "<Figure size 432x288 with 1 Axes>"
      ]
     },
     "metadata": {
      "needs_background": "light"
     },
     "output_type": "display_data"
    }
   ],
   "source": [
    "test_tune_turn_convergence(lattice_sext)"
   ]
  },
  {
   "cell_type": "code",
   "execution_count": 29,
   "metadata": {},
   "outputs": [
    {
     "data": {
      "text/plain": [
       "(<Figure size 432x288 with 1 Axes>, <AxesSubplot:xlabel='s [m]'>)"
      ]
     },
     "execution_count": 29,
     "metadata": {},
     "output_type": "execute_result"
    },
    {
     "data": {
      "image/png": "[encoded data removed]",
      "text/plain": [
       "<Figure size 432x288 with 1 Axes>"
      ]
     },
     "metadata": {
      "needs_background": "light"
     },
     "output_type": "display_data"
    }
   ],
   "source": [
    "FODO_sext.twiss('h').plot()"
   ]
  },
  {
   "cell_type": "code",
   "execution_count": 30,
   "metadata": {},
   "outputs": [
    {
     "data": {
      "text/plain": [
       "(<Figure size 432x288 with 1 Axes>,\n",
       " <AxesSubplot:xlabel='s [m]', ylabel='x [m]'>)"
      ]
     },
     "execution_count": 30,
     "metadata": {},
     "output_type": "execute_result"
    },
    {
     "data": {
      "image/png": "[encoded data removed]",
      "text/plain": [
       "<Figure size 432x288 with 1 Axes>"
      ]
     },
     "metadata": {
      "needs_background": "light"
     },
     "output_type": "display_data"
    }
   ],
   "source": [
    "FODO_sext.dispersion().plot('h')"
   ]
  },
  {
   "cell_type": "code",
   "execution_count": 31,
   "metadata": {},
   "outputs": [
    {
     "data": {
      "text/plain": [
       "0.14219268688049141"
      ]
     },
     "execution_count": 31,
     "metadata": {},
     "output_type": "execute_result"
    }
   ],
   "source": [
    "FODO_sext.tune(dp=0)"
   ]
  },
  {
   "cell_type": "code",
   "execution_count": 32,
   "metadata": {},
   "outputs": [
    {
     "data": {
      "text/plain": [
       "0.14216861133149983"
      ]
     },
     "execution_count": 32,
     "metadata": {},
     "output_type": "execute_result"
    }
   ],
   "source": [
    "FODO_sext.tune(dp=1e-3)"
   ]
  },
  {
   "cell_type": "code",
   "execution_count": 33,
   "metadata": {},
   "outputs": [
    {
     "data": {
      "text/plain": [
       "0.8438537413811648"
      ]
     },
     "execution_count": 33,
     "metadata": {},
     "output_type": "execute_result"
    }
   ],
   "source": [
    "lattice_sext.tune()"
   ]
  },
  {
   "cell_type": "code",
   "execution_count": 34,
   "metadata": {},
   "outputs": [
    {
     "data": {
      "text/plain": [
       "0.843372229579943"
      ]
     },
     "execution_count": 34,
     "metadata": {},
     "output_type": "execute_result"
    }
   ],
   "source": [
    "lattice_sext.tune(dp=1e-3)"
   ]
  },
  {
   "cell_type": "code",
   "execution_count": 35,
   "metadata": {},
   "outputs": [
    {
     "data": {
      "text/plain": [
       "-0.024075548991586704"
      ]
     },
     "execution_count": 35,
     "metadata": {},
     "output_type": "execute_result"
    }
   ],
   "source": [
    "FODO_sext.chromaticity()"
   ]
  },
  {
   "cell_type": "code",
   "execution_count": 36,
   "metadata": {},
   "outputs": [
    {
     "data": {
      "text/plain": [
       "-0.10317358772035656"
      ]
     },
     "execution_count": 36,
     "metadata": {},
     "output_type": "execute_result"
    }
   ],
   "source": [
    "FODO_sext.chromaticity('v')"
   ]
  },
  {
   "cell_type": "code",
   "execution_count": null,
   "metadata": {},
   "outputs": [],
   "source": [
    "lattice_sext.chromaticity()"
   ]
  },
  {
   "cell_type": "code",
   "execution_count": null,
   "metadata": {},
   "outputs": [],
   "source": [
    "lattice_sext.chromaticity('v')"
   ]
  }
 ],
 "metadata": {
  "kernelspec": {
   "display_name": "Python 3",
   "language": "python",
   "name": "python3"
  },
  "language_info": {
   "codemirror_mode": {
    "name": "ipython",
    "version": 3
   },
   "file_extension": ".py",
   "mimetype": "text/x-python",
   "name": "python",
   "nbconvert_exporter": "python",
   "pygments_lexer": "ipython3",
   "version": "3.8.6"
  }
 },
 "nbformat": 4,
 "nbformat_minor": 4
}
